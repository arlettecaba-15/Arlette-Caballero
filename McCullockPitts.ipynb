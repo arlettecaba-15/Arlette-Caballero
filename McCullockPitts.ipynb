{
  "nbformat": 4,
  "nbformat_minor": 0,
  "metadata": {
    "colab": {
      "provenance": [],
      "mount_file_id": "1aygh83KH68VHNd5AK_3ByC-4vlzypxc0",
      "authorship_tag": "ABX9TyPprGql/uwm9u6Yx/dtI29b",
      "include_colab_link": true
    },
    "kernelspec": {
      "name": "python3",
      "display_name": "Python 3"
    },
    "language_info": {
      "name": "python"
    }
  },
  "cells": [
    {
      "cell_type": "markdown",
      "metadata": {
        "id": "view-in-github",
        "colab_type": "text"
      },
      "source": [
        "<a href=\"https://colab.research.google.com/github/arlettecaba-15/Arlette-Caballero/blob/main/McCullockPitts.ipynb\" target=\"_parent\"><img src=\"https://colab.research.google.com/assets/colab-badge.svg\" alt=\"Open In Colab\"/></a>"
      ]
    },
    {
      "cell_type": "markdown",
      "source": [
        "##laboratorio 1"
      ],
      "metadata": {
        "id": "8EAx8_9jOVT9"
      }
    },
    {
      "cell_type": "code",
      "source": [
        "import numpy as np\n",
        "# Entradas para la neurona\n",
        "X = np.array([\n",
        "    [0, 0],\n",
        "    [0, 1],\n",
        "    [1, 0],\n",
        "    [1, 1]\n",
        "])\n",
        "# Salidas\n",
        "Y = np.array([0, 0, 0, 1])\n",
        "# Pesos para las entradas\n",
        "W = [10, 6]\n",
        "# Umbral para la función de activación\n",
        "umbral = 6"
      ],
      "metadata": {
        "id": "yekReX1wM6d3"
      },
      "execution_count": 11,
      "outputs": []
    },
    {
      "cell_type": "markdown",
      "source": [
        "X = np.array: Son las posibles commbinaciones que tiene el codigo\n",
        "Y = np.array: Son las salidas esperadas de una compuerta AND\n",
        " que quiere decir que solo devuelve 1 cuando ambas entradas son 1\n",
        "\n",
        "W = significa los pesos para las entradas\n",
        "el umbral es 6 lo que quiere decir que es la suma ponderada debe ser mayor o igual que seis para activar la neurona"
      ],
      "metadata": {
        "id": "WZcK1trsOUoQ"
      }
    },
    {
      "cell_type": "code",
      "source": [
        "class McCullochPitts:\n",
        "    def __init__(self, weights, umbral):\n",
        "\n",
        "        self.weights = weights\n",
        "        self.umbral = umbral\n",
        "\n",
        "    def predict(self, X):\n",
        "\n",
        "        # Lista donde se guardarán las salidas\n",
        "        predictions = []\n",
        "        # Recorremos cada fila de entradas\n",
        "        for i in range(X.shape[0]):\n",
        "            # Calculamos la suma ponderada: w1*x1 + w2*x2\n",
        "            weighted_sum = np.dot(self.weights, X[i])\n",
        "            # Mostramos en consola la entrada y la suma ponderada\n",
        "            print(f\"Input: {X[i]}, Weighted Sum: {weighted_sum}\")\n",
        "            # Comparación con el umbral determinar si la neurona se activa o no\n",
        "            if weighted_sum >= self.umbral:\n",
        "                predictions.append(1)\n",
        "            else:\n",
        "                predictions.append(0)\n",
        "        return predictions"
      ],
      "metadata": {
        "id": "tDj0q-LcM71h"
      },
      "execution_count": 12,
      "outputs": []
    },
    {
      "cell_type": "markdown",
      "source": [
        "definimos la clase de McCullochPitts\n",
        "y se guarda los pesos en weights y el umbral al crear la neurona\n",
        "para la fila X se calcula la suma con np.dot(weights,entrada)\n",
        "se  imprime la entrada y salida\n",
        "se compara con el umbral\n",
        " -si es mayor o igual, salida=1\n",
        " -si es menor, salida=0\n",
        "devuelva una lista con todas las predicciones"
      ],
      "metadata": {
        "id": "rGO-Oo4-PtpO"
      }
    },
    {
      "cell_type": "code",
      "source": [
        "# Instanciamos la clase McCullochPitts\n",
        "mcp = McCullochPitts(W, umbral)\n",
        "predictions = mcp.predict(X)\n",
        "# Mostramos el resultado final\n",
        "print(\"Predictions:\", predictions)"
      ],
      "metadata": {
        "colab": {
          "base_uri": "https://localhost:8080/"
        },
        "id": "5I5hRbIKNFka",
        "outputId": "24e56bd0-fa9c-4115-83c1-37db99b07445"
      },
      "execution_count": 13,
      "outputs": [
        {
          "output_type": "stream",
          "name": "stdout",
          "text": [
            "Input: [0 0], Weighted Sum: 0\n",
            "Input: [0 1], Weighted Sum: 6\n",
            "Input: [1 0], Weighted Sum: 10\n",
            "Input: [1 1], Weighted Sum: 16\n",
            "Predictions: [0, 1, 1, 1]\n"
          ]
        }
      ]
    },
    {
      "cell_type": "markdown",
      "source": [
        "Se crea la neurona con weights = [1,1] y umbral = 2.\n",
        "\n",
        "Se predicen las salidas para cada fila de X.\n",
        "\n",
        "Se imprimen los resultados."
      ],
      "metadata": {
        "id": "stknN-3GQm_C"
      }
    }
  ]
}